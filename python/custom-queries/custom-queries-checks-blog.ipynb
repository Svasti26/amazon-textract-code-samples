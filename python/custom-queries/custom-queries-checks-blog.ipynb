{
 "cells": [
  {
   "cell_type": "markdown",
   "id": "0a4076bf-f2f9-40de-83d8-2b2b46d60eb8",
   "metadata": {},
   "source": [
    "# 1. Copy pre-annotated check samples to your adapter"
   ]
  },
  {
   "cell_type": "markdown",
   "id": "aa029227-ae38-4ffc-b43b-6597929e0355",
   "metadata": {},
   "source": [
    "### Step 1: Create an adapter via console\n",
    "<img src=\"./screenshots/checks-notebook-step1.png\"/>"
   ]
  },
  {
   "cell_type": "markdown",
   "id": "69db73b8-deea-4a69-8812-f91a6186da54",
   "metadata": {},
   "source": [
    "### Step 2: Copy the adapter ID and dataset S3 bucket location from Adapter Details page.\n",
    "<img src=\"./screenshots/checks-notebook-step2.png\"/>"
   ]
  },
  {
   "cell_type": "code",
   "execution_count": null,
   "id": "9c6a8f6d-6c4d-404c-9ba5-764f90bed7f3",
   "metadata": {
    "tags": []
   },
   "outputs": [],
   "source": [
    "ADAPTERID=\"111111111111\"\n",
    "S3BUCKET=\"textract-adapters-us-east-1-1111\""
   ]
  },
  {
   "cell_type": "markdown",
   "id": "504bf278-28dc-4899-bfc2-68618a54a96e",
   "metadata": {},
   "source": [
    "### Step 3: Update the manifest file with the adapter details\n",
    "Run the below cell to programmatically extract the preannotations and update the manifest file with your adapter ID and dataset S3 bucket location "
   ]
  },
  {
   "cell_type": "code",
   "execution_count": null,
   "id": "75d97d06-042f-46a3-81ae-2b3357ebea1f",
   "metadata": {
    "tags": []
   },
   "outputs": [],
   "source": [
    "import shutil\n",
    "shutil.unpack_archive(\"./samples/checks-annotations.zip\", extract_dir=ADAPTERID)\n",
    "print(\"Check samples archive extracted successfully...\")\n",
    "\n",
    "!sed -i -e \"s/<s3-bucket-name>/$S3BUCKET/;s/<adapter-id>/$ADAPTERID/\" \"./$ADAPTERID/checks-annotations/manifest.jsonl\"\n",
    "print(f\"Replaces all instances of the adapter ID with {ADAPTERID} and S3bucket with {S3BUCKET}\")"
   ]
  },
  {
   "cell_type": "markdown",
   "id": "38f46be5-68d1-42d0-9628-913ece3cd521",
   "metadata": {
    "tags": []
   },
   "source": [
    "### Step 4: Copy the pre-annotations to the data set location"
   ]
  },
  {
   "cell_type": "code",
   "execution_count": null,
   "id": "0a8c337c-32d1-4b41-8397-de541e5131c9",
   "metadata": {
    "tags": []
   },
   "outputs": [],
   "source": [
    "!aws s3 cp \"./$ADAPTERID/checks-annotations\" \"s3://$S3BUCKET/adapters/$ADAPTERID\" --recursive\n",
    "print(\"\\nSuccessfully copied all files\")"
   ]
  },
  {
   "cell_type": "markdown",
   "id": "33991daf-71de-4cf2-9ea4-9bd23bf5aa92",
   "metadata": {
    "tags": []
   },
   "source": [
    "### Step 5: Refresh the adapter details page\n",
    "Return back to the Textract console and refresh the adapter details page. You should see the following\n",
    "1. The dataset is created successfully\n",
    "2. Queries have been created\n",
    "3. Documents have been verified\n",
    "\n",
    "<img src=\"./screenshots/checks-notebook-step5_1.png\"/>"
   ]
  },
  {
   "cell_type": "markdown",
   "id": "77694d2a-88b1-432c-a3c8-e2f2fcfabc56",
   "metadata": {},
   "source": [
    "### Step 6: View the pre-annotated samples \n",
    "Click on the Verify Documents button to open the dataset page. Once open, select the files and click review annotations.\n",
    "<img src=\"./screenshots/checks-notebook-step6.png\"/>"
   ]
  },
  {
   "cell_type": "markdown",
   "id": "2edde5a3-6254-475f-8354-c6055f2adccd",
   "metadata": {},
   "source": [
    "### Step 7: Train the Adapter\n",
    "Click on the Train Adapter button to initiate training. Training can take 1 to 30 hours to complete, however, given our dataset is small, it should complete in an hour or so.\n",
    "<img src=\"./screenshots/checks-notebook-step7.png\"/>"
   ]
  },
  {
   "cell_type": "markdown",
   "id": "34faecaf-0568-428d-b18f-fa0ab51f3298",
   "metadata": {},
   "source": [
    "### Step 8: Evaluate the adapter (console)"
   ]
  },
  {
   "cell_type": "markdown",
   "id": "a7eed7da-6134-47f8-a0e7-ec83c3573e39",
   "metadata": {},
   "source": [
    "### Step 9: Test the adapter programmatically (API)"
   ]
  },
  {
   "cell_type": "code",
   "execution_count": null,
   "id": "bd77ef99-512e-4d0f-9a9a-5790f1b41ec7",
   "metadata": {
    "tags": []
   },
   "outputs": [],
   "source": [
    "from IPython.display import Image\n",
    "\n",
    "document_name = f\"{ADAPTERID}/checks-annotations/original_assets/2e7e80de-4c39-41dd-b61f-1a9e38812d86.jpg\"\n",
    "Image(filename=document_name) \n"
   ]
  },
  {
   "cell_type": "code",
   "execution_count": null,
   "id": "a215913b-8647-47a9-bd29-c756c372f2b3",
   "metadata": {
    "tags": []
   },
   "outputs": [],
   "source": [
    "!python -m pip install amazon-textract-caller --upgrade\n",
    "!python -m pip install amazon-textract-response-parser --upgrade"
   ]
  },
  {
   "cell_type": "code",
   "execution_count": null,
   "id": "00c7d85d-11fb-4178-9114-319a922f2f1d",
   "metadata": {
    "tags": []
   },
   "outputs": [],
   "source": [
    "import boto3\n",
    "from textractcaller.t_call import call_textract, Textract_Features, Query, QueriesConfig, Adapter, AdaptersConfig\n",
    "import trp.trp2 as t2\n",
    "from tabulate import tabulate\n",
    "\n",
    "textract_client = boto3.client('textract')\n",
    "\n",
    "def tabulate_query_answers(textract_json):\n",
    "    d = t2.TDocumentSchema().load(textract_json)\n",
    "    for page in d.pages:\n",
    "        query_answers = d.get_query_answers(page=page)\n",
    "        print(tabulate(query_answers, tablefmt=\"github\"))\n",
    "\n",
    "queries = []\n",
    "queries.append(Query(text=\"What is the check#?\", alias=\"CHECK_NUMBER\", pages=[\"*\"]))\n",
    "queries.append(Query(text=\"What is the date?\", alias=\"DATE\", pages=[\"*\"]))\n",
    "queries.append(Query(text=\"What is the check amount in words?\", alias=\"CHECK_AMOUNT_WORDS\", pages=[\"*\"]))\n",
    "queries.append(Query(text=\"What is the dollar amount?\", alias=\"DOLLAR_AMOUNT\", pages=[\"*\"]))\n",
    "queries.append(Query(text=\"Who is the payee?\", alias=\"PAYEE_NAME\", pages=[\"*\"]))\n",
    "queries.append(Query(text=\"What is the customer account#\", alias=\"ACCOUNT_NUMBER\", pages=[\"*\"]))\n",
    "queries.append(Query(text=\"what is the payee appendress?\", alias=\"PAYEE_appendRESS\", pages=[\"*\"]))\n",
    "queries.append(Query(text=\"What is the bank routing number?\", alias=\"BANK_ROUTING_NUMBER\", pages=[\"*\"]))\n",
    "queries.append(Query(text=\"What is the memo\", alias=\"MEMO\", pages=[\"*\"]))\n",
    "queries.append(Query(text=\"What is the account name/payer/drawer name?\", alias=\"ACCOUNT_NAME\", pages=[\"*\"]))\n",
    "queries.append(Query(text=\"What is the bank name/drawee name?\", alias=\"BANK_NAME\", pages=[\"*\"]))\n",
    "\n",
    "queries_config = QueriesConfig(queries=queries)\n",
    "\n"
   ]
  },
  {
   "cell_type": "code",
   "execution_count": null,
   "id": "6055c0fa-66ad-4923-9f51-1cedf53df6bf",
   "metadata": {
    "tags": []
   },
   "outputs": [],
   "source": [
    "textract_json_prebuilt = call_textract(input_document=document_name,\n",
    "                  boto3_textract_client=textract_client,\n",
    "                  features=[Textract_Features.QUERIES],\n",
    "                  queries_config=queries_config)\n",
    "\n",
    "tabulate_query_answers(textract_json_prebuilt)"
   ]
  },
  {
   "cell_type": "code",
   "execution_count": null,
   "id": "4bb64fd4-35f5-43a5-bba6-c98912de6d90",
   "metadata": {
    "tags": []
   },
   "outputs": [],
   "source": [
    "adapter1 = Adapter(adapter_id=ADAPTERID, version=\"1\", pages=[\"*\"])\n",
    "adapters_config = AdaptersConfig(adapters=[adapter1])\n",
    "print(ADAPTERID)\n",
    "\n",
    "textract_json_with_adapter = call_textract(input_document=document_name,\n",
    "                  boto3_textract_client=textract_client,\n",
    "                  features=[Textract_Features.QUERIES],\n",
    "                  queries_config=queries_config,\n",
    "                  adapters_config=adapters_config)\n",
    "\n",
    "tabulate_query_answers(textract_json_with_adapter)"
   ]
  }
 ],
 "metadata": {
  "availableInstances": [
   {
    "_defaultOrder": 0,
    "_isFastLaunch": true,
    "category": "General purpose",
    "gpuNum": 0,
    "hideHardwareSpecs": false,
    "memoryGiB": 4,
    "name": "ml.t3.medium",
    "vcpuNum": 2
   },
   {
    "_defaultOrder": 1,
    "_isFastLaunch": false,
    "category": "General purpose",
    "gpuNum": 0,
    "hideHardwareSpecs": false,
    "memoryGiB": 8,
    "name": "ml.t3.large",
    "vcpuNum": 2
   },
   {
    "_defaultOrder": 2,
    "_isFastLaunch": false,
    "category": "General purpose",
    "gpuNum": 0,
    "hideHardwareSpecs": false,
    "memoryGiB": 16,
    "name": "ml.t3.xlarge",
    "vcpuNum": 4
   },
   {
    "_defaultOrder": 3,
    "_isFastLaunch": false,
    "category": "General purpose",
    "gpuNum": 0,
    "hideHardwareSpecs": false,
    "memoryGiB": 32,
    "name": "ml.t3.2xlarge",
    "vcpuNum": 8
   },
   {
    "_defaultOrder": 4,
    "_isFastLaunch": true,
    "category": "General purpose",
    "gpuNum": 0,
    "hideHardwareSpecs": false,
    "memoryGiB": 8,
    "name": "ml.m5.large",
    "vcpuNum": 2
   },
   {
    "_defaultOrder": 5,
    "_isFastLaunch": false,
    "category": "General purpose",
    "gpuNum": 0,
    "hideHardwareSpecs": false,
    "memoryGiB": 16,
    "name": "ml.m5.xlarge",
    "vcpuNum": 4
   },
   {
    "_defaultOrder": 6,
    "_isFastLaunch": false,
    "category": "General purpose",
    "gpuNum": 0,
    "hideHardwareSpecs": false,
    "memoryGiB": 32,
    "name": "ml.m5.2xlarge",
    "vcpuNum": 8
   },
   {
    "_defaultOrder": 7,
    "_isFastLaunch": false,
    "category": "General purpose",
    "gpuNum": 0,
    "hideHardwareSpecs": false,
    "memoryGiB": 64,
    "name": "ml.m5.4xlarge",
    "vcpuNum": 16
   },
   {
    "_defaultOrder": 8,
    "_isFastLaunch": false,
    "category": "General purpose",
    "gpuNum": 0,
    "hideHardwareSpecs": false,
    "memoryGiB": 128,
    "name": "ml.m5.8xlarge",
    "vcpuNum": 32
   },
   {
    "_defaultOrder": 9,
    "_isFastLaunch": false,
    "category": "General purpose",
    "gpuNum": 0,
    "hideHardwareSpecs": false,
    "memoryGiB": 192,
    "name": "ml.m5.12xlarge",
    "vcpuNum": 48
   },
   {
    "_defaultOrder": 10,
    "_isFastLaunch": false,
    "category": "General purpose",
    "gpuNum": 0,
    "hideHardwareSpecs": false,
    "memoryGiB": 256,
    "name": "ml.m5.16xlarge",
    "vcpuNum": 64
   },
   {
    "_defaultOrder": 11,
    "_isFastLaunch": false,
    "category": "General purpose",
    "gpuNum": 0,
    "hideHardwareSpecs": false,
    "memoryGiB": 384,
    "name": "ml.m5.24xlarge",
    "vcpuNum": 96
   },
   {
    "_defaultOrder": 12,
    "_isFastLaunch": false,
    "category": "General purpose",
    "gpuNum": 0,
    "hideHardwareSpecs": false,
    "memoryGiB": 8,
    "name": "ml.m5d.large",
    "vcpuNum": 2
   },
   {
    "_defaultOrder": 13,
    "_isFastLaunch": false,
    "category": "General purpose",
    "gpuNum": 0,
    "hideHardwareSpecs": false,
    "memoryGiB": 16,
    "name": "ml.m5d.xlarge",
    "vcpuNum": 4
   },
   {
    "_defaultOrder": 14,
    "_isFastLaunch": false,
    "category": "General purpose",
    "gpuNum": 0,
    "hideHardwareSpecs": false,
    "memoryGiB": 32,
    "name": "ml.m5d.2xlarge",
    "vcpuNum": 8
   },
   {
    "_defaultOrder": 15,
    "_isFastLaunch": false,
    "category": "General purpose",
    "gpuNum": 0,
    "hideHardwareSpecs": false,
    "memoryGiB": 64,
    "name": "ml.m5d.4xlarge",
    "vcpuNum": 16
   },
   {
    "_defaultOrder": 16,
    "_isFastLaunch": false,
    "category": "General purpose",
    "gpuNum": 0,
    "hideHardwareSpecs": false,
    "memoryGiB": 128,
    "name": "ml.m5d.8xlarge",
    "vcpuNum": 32
   },
   {
    "_defaultOrder": 17,
    "_isFastLaunch": false,
    "category": "General purpose",
    "gpuNum": 0,
    "hideHardwareSpecs": false,
    "memoryGiB": 192,
    "name": "ml.m5d.12xlarge",
    "vcpuNum": 48
   },
   {
    "_defaultOrder": 18,
    "_isFastLaunch": false,
    "category": "General purpose",
    "gpuNum": 0,
    "hideHardwareSpecs": false,
    "memoryGiB": 256,
    "name": "ml.m5d.16xlarge",
    "vcpuNum": 64
   },
   {
    "_defaultOrder": 19,
    "_isFastLaunch": false,
    "category": "General purpose",
    "gpuNum": 0,
    "hideHardwareSpecs": false,
    "memoryGiB": 384,
    "name": "ml.m5d.24xlarge",
    "vcpuNum": 96
   },
   {
    "_defaultOrder": 20,
    "_isFastLaunch": false,
    "category": "General purpose",
    "gpuNum": 0,
    "hideHardwareSpecs": true,
    "memoryGiB": 0,
    "name": "ml.geospatial.interactive",
    "supportedImageNames": [
     "sagemaker-geospatial-v1-0"
    ],
    "vcpuNum": 0
   },
   {
    "_defaultOrder": 21,
    "_isFastLaunch": true,
    "category": "Compute optimized",
    "gpuNum": 0,
    "hideHardwareSpecs": false,
    "memoryGiB": 4,
    "name": "ml.c5.large",
    "vcpuNum": 2
   },
   {
    "_defaultOrder": 22,
    "_isFastLaunch": false,
    "category": "Compute optimized",
    "gpuNum": 0,
    "hideHardwareSpecs": false,
    "memoryGiB": 8,
    "name": "ml.c5.xlarge",
    "vcpuNum": 4
   },
   {
    "_defaultOrder": 23,
    "_isFastLaunch": false,
    "category": "Compute optimized",
    "gpuNum": 0,
    "hideHardwareSpecs": false,
    "memoryGiB": 16,
    "name": "ml.c5.2xlarge",
    "vcpuNum": 8
   },
   {
    "_defaultOrder": 24,
    "_isFastLaunch": false,
    "category": "Compute optimized",
    "gpuNum": 0,
    "hideHardwareSpecs": false,
    "memoryGiB": 32,
    "name": "ml.c5.4xlarge",
    "vcpuNum": 16
   },
   {
    "_defaultOrder": 25,
    "_isFastLaunch": false,
    "category": "Compute optimized",
    "gpuNum": 0,
    "hideHardwareSpecs": false,
    "memoryGiB": 72,
    "name": "ml.c5.9xlarge",
    "vcpuNum": 36
   },
   {
    "_defaultOrder": 26,
    "_isFastLaunch": false,
    "category": "Compute optimized",
    "gpuNum": 0,
    "hideHardwareSpecs": false,
    "memoryGiB": 96,
    "name": "ml.c5.12xlarge",
    "vcpuNum": 48
   },
   {
    "_defaultOrder": 27,
    "_isFastLaunch": false,
    "category": "Compute optimized",
    "gpuNum": 0,
    "hideHardwareSpecs": false,
    "memoryGiB": 144,
    "name": "ml.c5.18xlarge",
    "vcpuNum": 72
   },
   {
    "_defaultOrder": 28,
    "_isFastLaunch": false,
    "category": "Compute optimized",
    "gpuNum": 0,
    "hideHardwareSpecs": false,
    "memoryGiB": 192,
    "name": "ml.c5.24xlarge",
    "vcpuNum": 96
   },
   {
    "_defaultOrder": 29,
    "_isFastLaunch": true,
    "category": "Accelerated computing",
    "gpuNum": 1,
    "hideHardwareSpecs": false,
    "memoryGiB": 16,
    "name": "ml.g4dn.xlarge",
    "vcpuNum": 4
   },
   {
    "_defaultOrder": 30,
    "_isFastLaunch": false,
    "category": "Accelerated computing",
    "gpuNum": 1,
    "hideHardwareSpecs": false,
    "memoryGiB": 32,
    "name": "ml.g4dn.2xlarge",
    "vcpuNum": 8
   },
   {
    "_defaultOrder": 31,
    "_isFastLaunch": false,
    "category": "Accelerated computing",
    "gpuNum": 1,
    "hideHardwareSpecs": false,
    "memoryGiB": 64,
    "name": "ml.g4dn.4xlarge",
    "vcpuNum": 16
   },
   {
    "_defaultOrder": 32,
    "_isFastLaunch": false,
    "category": "Accelerated computing",
    "gpuNum": 1,
    "hideHardwareSpecs": false,
    "memoryGiB": 128,
    "name": "ml.g4dn.8xlarge",
    "vcpuNum": 32
   },
   {
    "_defaultOrder": 33,
    "_isFastLaunch": false,
    "category": "Accelerated computing",
    "gpuNum": 4,
    "hideHardwareSpecs": false,
    "memoryGiB": 192,
    "name": "ml.g4dn.12xlarge",
    "vcpuNum": 48
   },
   {
    "_defaultOrder": 34,
    "_isFastLaunch": false,
    "category": "Accelerated computing",
    "gpuNum": 1,
    "hideHardwareSpecs": false,
    "memoryGiB": 256,
    "name": "ml.g4dn.16xlarge",
    "vcpuNum": 64
   },
   {
    "_defaultOrder": 35,
    "_isFastLaunch": false,
    "category": "Accelerated computing",
    "gpuNum": 1,
    "hideHardwareSpecs": false,
    "memoryGiB": 61,
    "name": "ml.p3.2xlarge",
    "vcpuNum": 8
   },
   {
    "_defaultOrder": 36,
    "_isFastLaunch": false,
    "category": "Accelerated computing",
    "gpuNum": 4,
    "hideHardwareSpecs": false,
    "memoryGiB": 244,
    "name": "ml.p3.8xlarge",
    "vcpuNum": 32
   },
   {
    "_defaultOrder": 37,
    "_isFastLaunch": false,
    "category": "Accelerated computing",
    "gpuNum": 8,
    "hideHardwareSpecs": false,
    "memoryGiB": 488,
    "name": "ml.p3.16xlarge",
    "vcpuNum": 64
   },
   {
    "_defaultOrder": 38,
    "_isFastLaunch": false,
    "category": "Accelerated computing",
    "gpuNum": 8,
    "hideHardwareSpecs": false,
    "memoryGiB": 768,
    "name": "ml.p3dn.24xlarge",
    "vcpuNum": 96
   },
   {
    "_defaultOrder": 39,
    "_isFastLaunch": false,
    "category": "Memory Optimized",
    "gpuNum": 0,
    "hideHardwareSpecs": false,
    "memoryGiB": 16,
    "name": "ml.r5.large",
    "vcpuNum": 2
   },
   {
    "_defaultOrder": 40,
    "_isFastLaunch": false,
    "category": "Memory Optimized",
    "gpuNum": 0,
    "hideHardwareSpecs": false,
    "memoryGiB": 32,
    "name": "ml.r5.xlarge",
    "vcpuNum": 4
   },
   {
    "_defaultOrder": 41,
    "_isFastLaunch": false,
    "category": "Memory Optimized",
    "gpuNum": 0,
    "hideHardwareSpecs": false,
    "memoryGiB": 64,
    "name": "ml.r5.2xlarge",
    "vcpuNum": 8
   },
   {
    "_defaultOrder": 42,
    "_isFastLaunch": false,
    "category": "Memory Optimized",
    "gpuNum": 0,
    "hideHardwareSpecs": false,
    "memoryGiB": 128,
    "name": "ml.r5.4xlarge",
    "vcpuNum": 16
   },
   {
    "_defaultOrder": 43,
    "_isFastLaunch": false,
    "category": "Memory Optimized",
    "gpuNum": 0,
    "hideHardwareSpecs": false,
    "memoryGiB": 256,
    "name": "ml.r5.8xlarge",
    "vcpuNum": 32
   },
   {
    "_defaultOrder": 44,
    "_isFastLaunch": false,
    "category": "Memory Optimized",
    "gpuNum": 0,
    "hideHardwareSpecs": false,
    "memoryGiB": 384,
    "name": "ml.r5.12xlarge",
    "vcpuNum": 48
   },
   {
    "_defaultOrder": 45,
    "_isFastLaunch": false,
    "category": "Memory Optimized",
    "gpuNum": 0,
    "hideHardwareSpecs": false,
    "memoryGiB": 512,
    "name": "ml.r5.16xlarge",
    "vcpuNum": 64
   },
   {
    "_defaultOrder": 46,
    "_isFastLaunch": false,
    "category": "Memory Optimized",
    "gpuNum": 0,
    "hideHardwareSpecs": false,
    "memoryGiB": 768,
    "name": "ml.r5.24xlarge",
    "vcpuNum": 96
   },
   {
    "_defaultOrder": 47,
    "_isFastLaunch": false,
    "category": "Accelerated computing",
    "gpuNum": 1,
    "hideHardwareSpecs": false,
    "memoryGiB": 16,
    "name": "ml.g5.xlarge",
    "vcpuNum": 4
   },
   {
    "_defaultOrder": 48,
    "_isFastLaunch": false,
    "category": "Accelerated computing",
    "gpuNum": 1,
    "hideHardwareSpecs": false,
    "memoryGiB": 32,
    "name": "ml.g5.2xlarge",
    "vcpuNum": 8
   },
   {
    "_defaultOrder": 49,
    "_isFastLaunch": false,
    "category": "Accelerated computing",
    "gpuNum": 1,
    "hideHardwareSpecs": false,
    "memoryGiB": 64,
    "name": "ml.g5.4xlarge",
    "vcpuNum": 16
   },
   {
    "_defaultOrder": 50,
    "_isFastLaunch": false,
    "category": "Accelerated computing",
    "gpuNum": 1,
    "hideHardwareSpecs": false,
    "memoryGiB": 128,
    "name": "ml.g5.8xlarge",
    "vcpuNum": 32
   },
   {
    "_defaultOrder": 51,
    "_isFastLaunch": false,
    "category": "Accelerated computing",
    "gpuNum": 1,
    "hideHardwareSpecs": false,
    "memoryGiB": 256,
    "name": "ml.g5.16xlarge",
    "vcpuNum": 64
   },
   {
    "_defaultOrder": 52,
    "_isFastLaunch": false,
    "category": "Accelerated computing",
    "gpuNum": 4,
    "hideHardwareSpecs": false,
    "memoryGiB": 192,
    "name": "ml.g5.12xlarge",
    "vcpuNum": 48
   },
   {
    "_defaultOrder": 53,
    "_isFastLaunch": false,
    "category": "Accelerated computing",
    "gpuNum": 4,
    "hideHardwareSpecs": false,
    "memoryGiB": 384,
    "name": "ml.g5.24xlarge",
    "vcpuNum": 96
   },
   {
    "_defaultOrder": 54,
    "_isFastLaunch": false,
    "category": "Accelerated computing",
    "gpuNum": 8,
    "hideHardwareSpecs": false,
    "memoryGiB": 768,
    "name": "ml.g5.48xlarge",
    "vcpuNum": 192
   },
   {
    "_defaultOrder": 55,
    "_isFastLaunch": false,
    "category": "Accelerated computing",
    "gpuNum": 8,
    "hideHardwareSpecs": false,
    "memoryGiB": 1152,
    "name": "ml.p4d.24xlarge",
    "vcpuNum": 96
   },
   {
    "_defaultOrder": 56,
    "_isFastLaunch": false,
    "category": "Accelerated computing",
    "gpuNum": 8,
    "hideHardwareSpecs": false,
    "memoryGiB": 1152,
    "name": "ml.p4de.24xlarge",
    "vcpuNum": 96
   }
  ],
  "instance_type": "ml.t3.medium",
  "kernelspec": {
   "display_name": "Python 3 (Data Science 3.0)",
   "language": "python",
   "name": "python3__SAGEMAKER_INTERNAL__arn:aws:sagemaker:us-east-1:081325390199:image/sagemaker-data-science-310-v1"
  },
  "language_info": {
   "codemirror_mode": {
    "name": "ipython",
    "version": 3
   },
   "file_extension": ".py",
   "mimetype": "text/x-python",
   "name": "python",
   "nbconvert_exporter": "python",
   "pygments_lexer": "ipython3",
   "version": "3.10.6"
  }
 },
 "nbformat": 4,
 "nbformat_minor": 5
}
